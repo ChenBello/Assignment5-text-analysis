{
 "cells": [
  {
   "cell_type": "markdown",
   "metadata": {},
   "source": [
    "# Assignment 5 - Text Analysis\n",
    "An explanation this assignment could be found in the .pdf explanation document"
   ]
  },
  {
   "cell_type": "markdown",
   "metadata": {},
   "source": [
    "\n",
    "## Materials to review for this assignment\n",
    "<h4>From Moodle:</h4> \n",
    "<h5><u>Review the notebooks regarding the following python topics</u>:</h5>\n",
    "<div class=\"alert alert-info\">\n",
    "&#x2714; <b>Working with strings</b> (tutorial notebook)<br/>\n",
    "&#x2714; <b>Text Analysis</b> (tutorial notebook)<br/>\n",
    "&#x2714; <b>Hebrew text analysis tools (tokenizer, wordnet)</b> (moodle example)<br/>\n",
    "&#x2714; <b>(brief review) All previous notebooks</b><br/>\n",
    "</div> \n",
    "<h5><u>Review the presentations regarding the following topics</u>:</h5>\n",
    "<div class=\"alert alert-info\">\n",
    "&#x2714; <b>Text Analysis</b> (lecture presentation)<br/>\n",
    "&#x2714; <b>(brief review) All other presentations</b><br/>\n",
    "</div>"
   ]
  },
  {
   "cell_type": "markdown",
   "metadata": {},
   "source": [
    "## Preceding Step - import modules (packages)\n",
    "This step is necessary in order to use external modules (packages). <br/>"
   ]
  },
  {
   "cell_type": "code",
   "execution_count": 1,
   "metadata": {},
   "outputs": [],
   "source": [
    "# --------------------------------------\n",
    "import pandas as pd\n",
    "import numpy as np\n",
    "# --------------------------------------\n",
    "\n",
    "\n",
    "# --------------------------------------\n",
    "# ------------- visualizations:\n",
    "import seaborn as sns\n",
    "import matplotlib.pyplot as plt\n",
    "from matplotlib.colors import ListedColormap\n",
    "# --------------------------------------\n",
    "\n",
    "\n",
    "# ---------------------------------------\n",
    "import sklearn\n",
    "from sklearn import preprocessing, metrics, pipeline, model_selection, feature_extraction \n",
    "from sklearn import naive_bayes, linear_model, svm, neural_network, neighbors, tree\n",
    "from sklearn import decomposition, cluster\n",
    "\n",
    "from sklearn.model_selection import train_test_split, cross_val_score, GridSearchCV \n",
    "from sklearn.pipeline import Pipeline\n",
    "from sklearn.metrics import accuracy_score, confusion_matrix\n",
    "from sklearn.metrics import precision_score, recall_score, f1_score\n",
    "from sklearn.metrics import mean_squared_error, r2_score, silhouette_score\n",
    "from sklearn.preprocessing import MinMaxScaler, StandardScaler, LabelEncoder\n",
    "\n",
    "from sklearn.svm import LinearSVC\n",
    "from sklearn.neural_network import MLPClassifier\n",
    "from sklearn.linear_model import Perceptron, SGDClassifier\n",
    "from sklearn.decomposition import PCA\n",
    "from sklearn.cluster import KMeans\n",
    "from sklearn.naive_bayes import MultinomialNB, GaussianNB\n",
    "from sklearn.neighbors import KNeighborsClassifier\n",
    "from sklearn.tree import DecisionTreeClassifier\n",
    "# ---------------------------------------\n",
    "\n",
    "\n",
    "# ----------------- output and visualizations: \n",
    "import warnings\n",
    "from sklearn.exceptions import ConvergenceWarning\n",
    "warnings.simplefilter(\"ignore\")\n",
    "warnings.simplefilter(action='ignore', category=FutureWarning)\n",
    "warnings.simplefilter(\"ignore\", category=ConvergenceWarning)\n",
    "# show several prints in one cell. This will allow us to condence every trick in one cell.\n",
    "from IPython.core.interactiveshell import InteractiveShell\n",
    "InteractiveShell.ast_node_interactivity = \"all\"\n",
    "%matplotlib inline\n",
    "pd.pandas.set_option('display.max_columns', None)\n",
    "pd.set_option('display.float_format', lambda x: '%.3f' % x)\n",
    "# ---------------------------------------"
   ]
  },
  {
   "cell_type": "markdown",
   "metadata": {},
   "source": [
    "### Text analysis and String manipulation imports:"
   ]
  },
  {
   "cell_type": "code",
   "execution_count": 2,
   "metadata": {},
   "outputs": [],
   "source": [
    "# --------------------------------------\n",
    "# --------- Text analysis and Hebrew text analysis imports:\n",
    "# vectorizers:\n",
    "from sklearn.feature_extraction import text\n",
    "from sklearn.feature_extraction.text import CountVectorizer, TfidfVectorizer\n",
    "\n",
    "# regular expressions:\n",
    "import re\n",
    "# --------------------------------------"
   ]
  },
  {
   "cell_type": "markdown",
   "metadata": {},
   "source": [
    "### (optional) Hebrew text analysis - WordNet (for Hebrew)\n",
    "Note: the WordNet is not a must"
   ]
  },
  {
   "cell_type": "markdown",
   "metadata": {},
   "source": [
    "#### (optional) Only if you didn't install Wordnet (for Hebrew) use:"
   ]
  },
  {
   "cell_type": "code",
   "execution_count": 3,
   "metadata": {},
   "outputs": [
    {
     "name": "stdout",
     "output_type": "stream",
     "text": [
      "Requirement already satisfied: wn in c:\\users\\chenb\\anaconda3\\lib\\site-packages (0.9.4)\n",
      "Requirement already satisfied: requests in c:\\users\\chenb\\anaconda3\\lib\\site-packages (from wn) (2.28.1)\n",
      "Requirement already satisfied: tomli in c:\\users\\chenb\\anaconda3\\lib\\site-packages (from wn) (2.0.1)\n",
      "Requirement already satisfied: idna<4,>=2.5 in c:\\users\\chenb\\anaconda3\\lib\\site-packages (from requests->wn) (3.3)\n",
      "Requirement already satisfied: charset-normalizer<3,>=2 in c:\\users\\chenb\\anaconda3\\lib\\site-packages (from requests->wn) (2.0.4)\n",
      "Requirement already satisfied: certifi>=2017.4.17 in c:\\users\\chenb\\anaconda3\\lib\\site-packages (from requests->wn) (2022.9.14)\n",
      "Requirement already satisfied: urllib3<1.27,>=1.21.1 in c:\\users\\chenb\\anaconda3\\lib\\site-packages (from requests->wn) (1.26.11)\n"
     ]
    },
    {
     "name": "stderr",
     "output_type": "stream",
     "text": [
      "\n",
      "\u001b[KCached file found: C:\\Users\\chenb\\.wn_data\\downloads\\7ecf10e89326bc0ac26ad94b40fe60a7b6ac3302\n",
      "\n",
      "\u001b[KChecking C:\\Users\\chenb\\AppData\\Local\\Temp\\tmpmsqqy0jw\\omw-he\\omw-he.xml\n",
      "\u001b[KSkipping omw-he:1.4 (Hebrew Wordnet); already added\n",
      "\n"
     ]
    }
   ],
   "source": [
    "# word net installation:\n",
    "\n",
    "# unmark if you want to use and need to install\n",
    "!pip install wn\n",
    "!python -m wn download omw-he:1.4"
   ]
  },
  {
   "cell_type": "code",
   "execution_count": 4,
   "metadata": {},
   "outputs": [],
   "source": [
    "# word net import:\n",
    "\n",
    "# unmark if you want to use:\n",
    "import wn"
   ]
  },
  {
   "cell_type": "markdown",
   "metadata": {},
   "source": [
    "### (optional) Hebrew text analysis - hebrew_tokenizer (Tokenizer for Hebrew)\n",
    "Note: the hebrew_tokenizer is not a must"
   ]
  },
  {
   "cell_type": "markdown",
   "metadata": {},
   "source": [
    "#### (optional) Only if you didn't install hebrew_tokenizer use:"
   ]
  },
  {
   "cell_type": "code",
   "execution_count": 5,
   "metadata": {},
   "outputs": [
    {
     "name": "stdout",
     "output_type": "stream",
     "text": [
      "Requirement already satisfied: hebrew_tokenizer in c:\\users\\chenb\\anaconda3\\lib\\site-packages (2.3.0)\n"
     ]
    }
   ],
   "source": [
    "# Hebrew tokenizer installation:\n",
    "\n",
    "# unmark if you want to use and need to install:\n",
    "!pip install hebrew_tokenizer\n"
   ]
  },
  {
   "cell_type": "code",
   "execution_count": 6,
   "metadata": {},
   "outputs": [
    {
     "name": "stdout",
     "output_type": "stream",
     "text": [
      "C:\\Users\\chenb\\Downloads\\assignment5-text_analysis\n"
     ]
    }
   ],
   "source": [
    "# Hebrew tokenizer import:\n",
    "\n",
    "# unmark if you want to use:\n",
    "import hebrew_tokenizer as ht"
   ]
  },
  {
   "cell_type": "markdown",
   "metadata": {},
   "source": [
    "### Reading input files\n",
    "Reading input files for train annotated corpus (raw text data) corpus and for the test corpus"
   ]
  },
  {
   "cell_type": "code",
   "execution_count": 7,
   "metadata": {},
   "outputs": [],
   "source": [
    "# קריאת קבצי הנתונים למשתנים DataFrame\n",
    "train_filename = 'annotated_corpus_for_train.csv'\n",
    "test_filename  = 'corpus_for_test.csv'\n",
    "df_train = pd.read_csv(train_filename, index_col=None, encoding='utf-8')\n",
    "df_test  = pd.read_csv(test_filename, index_col=None, encoding='utf-8')"
   ]
  },
  {
   "cell_type": "code",
   "execution_count": 8,
   "metadata": {},
   "outputs": [
    {
     "data": {
      "text/html": [
       "<div>\n",
       "<style scoped>\n",
       "    .dataframe tbody tr th:only-of-type {\n",
       "        vertical-align: middle;\n",
       "    }\n",
       "\n",
       "    .dataframe tbody tr th {\n",
       "        vertical-align: top;\n",
       "    }\n",
       "\n",
       "    .dataframe thead th {\n",
       "        text-align: right;\n",
       "    }\n",
       "</style>\n",
       "<table border=\"1\" class=\"dataframe\">\n",
       "  <thead>\n",
       "    <tr style=\"text-align: right;\">\n",
       "      <th></th>\n",
       "      <th>story</th>\n",
       "      <th>gender</th>\n",
       "    </tr>\n",
       "  </thead>\n",
       "  <tbody>\n",
       "    <tr>\n",
       "      <th>0</th>\n",
       "      <td>כשחבר הזמין אותי לחול, לא באמת חשבתי שזה יקרה,...</td>\n",
       "      <td>m</td>\n",
       "    </tr>\n",
       "    <tr>\n",
       "      <th>1</th>\n",
       "      <td>לפני שהתגייסתי לצבא עשיתי כל מני מיונים ליחידו...</td>\n",
       "      <td>m</td>\n",
       "    </tr>\n",
       "    <tr>\n",
       "      <th>2</th>\n",
       "      <td>מאז שהתחילו הלימודים חלומו של כל סטודנט זה הפנ...</td>\n",
       "      <td>f</td>\n",
       "    </tr>\n",
       "    <tr>\n",
       "      <th>3</th>\n",
       "      <td>כשהייתי ילד, מטוסים היה הדבר שהכי ריתק אותי. ב...</td>\n",
       "      <td>m</td>\n",
       "    </tr>\n",
       "    <tr>\n",
       "      <th>4</th>\n",
       "      <td>‏הייתי מדריכה בכפר נוער ומתאם הכפר היינו צריכי...</td>\n",
       "      <td>f</td>\n",
       "    </tr>\n",
       "    <tr>\n",
       "      <th>5</th>\n",
       "      <td>לפני כ3 חודשים טסתי לרומא למשך שבוע. טסתי במטו...</td>\n",
       "      <td>f</td>\n",
       "    </tr>\n",
       "    <tr>\n",
       "      <th>6</th>\n",
       "      <td>אני כבר שנתיים נשוי והשנה אני ואישתי סוף סוף י...</td>\n",
       "      <td>m</td>\n",
       "    </tr>\n",
       "    <tr>\n",
       "      <th>7</th>\n",
       "      <td>השנה התחלנו שיפוץ בדירה שלנו בתל אביב. הדירה ה...</td>\n",
       "      <td>f</td>\n",
       "    </tr>\n",
       "  </tbody>\n",
       "</table>\n",
       "</div>"
      ],
      "text/plain": [
       "                                               story gender\n",
       "0  כשחבר הזמין אותי לחול, לא באמת חשבתי שזה יקרה,...      m\n",
       "1  לפני שהתגייסתי לצבא עשיתי כל מני מיונים ליחידו...      m\n",
       "2  מאז שהתחילו הלימודים חלומו של כל סטודנט זה הפנ...      f\n",
       "3  כשהייתי ילד, מטוסים היה הדבר שהכי ריתק אותי. ב...      m\n",
       "4  ‏הייתי מדריכה בכפר נוער ומתאם הכפר היינו צריכי...      f\n",
       "5  לפני כ3 חודשים טסתי לרומא למשך שבוע. טסתי במטו...      f\n",
       "6  אני כבר שנתיים נשוי והשנה אני ואישתי סוף סוף י...      m\n",
       "7  השנה התחלנו שיפוץ בדירה שלנו בתל אביב. הדירה ה...      f"
      ]
     },
     "execution_count": 8,
     "metadata": {},
     "output_type": "execute_result"
    },
    {
     "data": {
      "text/plain": [
       "(753, 2)"
      ]
     },
     "execution_count": 8,
     "metadata": {},
     "output_type": "execute_result"
    }
   ],
   "source": [
    "df_train.head(8)\n",
    "df_train.shape"
   ]
  },
  {
   "cell_type": "code",
   "execution_count": 9,
   "metadata": {},
   "outputs": [
    {
     "data": {
      "text/html": [
       "<div>\n",
       "<style scoped>\n",
       "    .dataframe tbody tr th:only-of-type {\n",
       "        vertical-align: middle;\n",
       "    }\n",
       "\n",
       "    .dataframe tbody tr th {\n",
       "        vertical-align: top;\n",
       "    }\n",
       "\n",
       "    .dataframe thead th {\n",
       "        text-align: right;\n",
       "    }\n",
       "</style>\n",
       "<table border=\"1\" class=\"dataframe\">\n",
       "  <thead>\n",
       "    <tr style=\"text-align: right;\">\n",
       "      <th></th>\n",
       "      <th>test_example_id</th>\n",
       "      <th>story</th>\n",
       "    </tr>\n",
       "  </thead>\n",
       "  <tbody>\n",
       "    <tr>\n",
       "      <th>0</th>\n",
       "      <td>0</td>\n",
       "      <td>כל קיץ אני והמשפחה נוסעים לארצות הברית לוס אנג...</td>\n",
       "    </tr>\n",
       "    <tr>\n",
       "      <th>1</th>\n",
       "      <td>1</td>\n",
       "      <td>הגעתי לשירות המדינה אחרי שנתיים כפעיל בתנועת \"...</td>\n",
       "    </tr>\n",
       "    <tr>\n",
       "      <th>2</th>\n",
       "      <td>2</td>\n",
       "      <td>אחת האהבות הגדולות שלי אלו הכלבים שלי ושל אישת...</td>\n",
       "    </tr>\n",
       "  </tbody>\n",
       "</table>\n",
       "</div>"
      ],
      "text/plain": [
       "   test_example_id                                              story\n",
       "0                0  כל קיץ אני והמשפחה נוסעים לארצות הברית לוס אנג...\n",
       "1                1  הגעתי לשירות המדינה אחרי שנתיים כפעיל בתנועת \"...\n",
       "2                2  אחת האהבות הגדולות שלי אלו הכלבים שלי ושל אישת..."
      ]
     },
     "execution_count": 9,
     "metadata": {},
     "output_type": "execute_result"
    },
    {
     "data": {
      "text/plain": [
       "(323, 2)"
      ]
     },
     "execution_count": 9,
     "metadata": {},
     "output_type": "execute_result"
    }
   ],
   "source": [
    "df_test.head(3)\n",
    "df_test.shape"
   ]
  },
  {
   "cell_type": "markdown",
   "metadata": {},
   "source": [
    "### Your implementation:\n",
    "Write your code solution in the following code-cells"
   ]
  },
  {
   "cell_type": "code",
   "execution_count": 10,
   "metadata": {},
   "outputs": [
    {
     "name": "stdout",
     "output_type": "stream",
     "text": [
      "Number of unique stories: 749\n",
      "Number of duplicated stories: 4\n",
      "---------------------------------------\n",
      "Number of train missing values: story     0\n",
      "gender    0\n",
      "dtype: int64\n",
      "---------------------------------------\n",
      "Number of test missing values: test_example_id    0\n",
      "story              0\n",
      "dtype: int64\n"
     ]
    }
   ],
   "source": [
    "# הטיפול בטוקניזציה וסידור מחדש של הטקסט העברי מסיפורי האימון\n",
    "stories = []\n",
    "coppied_stories=0\n",
    "seen_stories = set()  # רשימה של סיפורים שכבר נראו\n",
    "for story in df_train['story']:\n",
    "    hebrew_tokens = [token for grp, token, _, _ in ht.tokenize(story) if grp == 'HEBREW']\n",
    "    hebrew_text = ' '.join(hebrew_tokens)\n",
    "    if hebrew_text not in seen_stories:  # בדיקה אם הסיפור כבר נמצא ברשימה\n",
    "        stories.append(hebrew_text)\n",
    "        seen_stories.add(hebrew_text)  # הוספת הסיפור לרשימה של הסיפורים שכבר נראו\n",
    "    else:\n",
    "        #stories.append('')\n",
    "        stories.append(hebrew_text)\n",
    "        coppied_stories += 1\n",
    "        \n",
    "# הדפסת מספר הסיפורים החדשים שנמצאו\n",
    "print(\"Number of unique stories:\", len(stories)-coppied_stories)\n",
    "\n",
    "# ניתוח השורות ב-DataFrame עבור הטיפול בטקסט\n",
    "df_train['story'] = stories\n",
    "\n",
    "\n",
    "# # fillna() במקרה של טקסט, נוכל להשתמש במתודה  \n",
    "# # עם ערך קבוע, כמו רשימה ריקה או מחרוזת ריקה\n",
    "# # כדי למלא את הערכים החסרים\n",
    "# df_train['story'].fillna('', inplace=True)\n",
    "\n",
    "print(\"Number of duplicated stories:\",coppied_stories)\n",
    "print('---------------------------------------')\n",
    "train_missing_values = df_train.isnull().sum()\n",
    "print(\"Number of train missing values:\",train_missing_values)\n",
    "print('---------------------------------------')\n",
    "test_missing_values = df_test.isnull().sum()\n",
    "print(\"Number of test missing values:\",test_missing_values)"
   ]
  },
  {
   "cell_type": "code",
   "execution_count": null,
   "metadata": {},
   "outputs": [],
   "source": [
    "# from nltk.corpus import stopwords \n",
    "# stop_words = set(stopwords.words(\"hebrew\"))\n",
    "# print(stop_words)\n",
    "\n",
    "StopWords=[\n",
    "'אני',\n",
    "'את',\n",
    "'אתה',\n",
    "'אנחנו',\n",
    "'אתן',\n",
    "'אתם',\n",
    "'הם',\n",
    "'הן',\n",
    "'היא',\n",
    "'הוא',\n",
    "'שלי',\n",
    "'שלו',\n",
    "'שלך',\n",
    "'שלה',\n",
    "'שלנו',\n",
    "'שלכם',\n",
    "'שלכן',\n",
    "'שלהם',\n",
    "'שלהן',\n",
    "'לי',\n",
    "'לו',\n",
    "'לה',\n",
    "'לנו',\n",
    "'לכם',\n",
    "'לכן',\n",
    "'להם',\n",
    "'להן',\n",
    "'אותה',\n",
    "'אותו',\n",
    "'זה',\n",
    "'זאת',\n",
    "'אלה',\n",
    "'אלו',\n",
    "'תחת',\n",
    "'מתחת',\n",
    "'מעל',\n",
    "'בין',\n",
    "'עם',\n",
    "'עד',\n",
    "'נגר',\n",
    "'על',\n",
    "'אל',\n",
    "'מול',\n",
    "'של',\n",
    "'אצל',\n",
    "'כמו',\n",
    "'אחר',\n",
    "'אותו',\n",
    "'בלי',\n",
    "'לפני',\n",
    "'אחרי',\n",
    "'מאחורי',\n",
    "'עלי',\n",
    "'עליו',\n",
    "'עליה',\n",
    "'עליך',\n",
    "'עלינו',\n",
    "'עליכם',\n",
    "'לעיכן',\n",
    "'עליהם',\n",
    "'עליהן',\n",
    "'כל',\n",
    "'כולם',\n",
    "'כולן',\n",
    "'כך',\n",
    "'ככה',\n",
    "'כזה',\n",
    "'זה',\n",
    "'זות',\n",
    "'אותי',\n",
    "'אותה',\n",
    "'אותם',\n",
    "'אותך',\n",
    "'אותו',\n",
    "'אותן',\n",
    "'אותנו',\n",
    "'ואת',\n",
    "'את',\n",
    "'אתכם',\n",
    "'אתכן',\n",
    "'איתי',\n",
    "'איתו',\n",
    "'איתך',\n",
    "'איתה',\n",
    "'איתם',\n",
    "'איתן',\n",
    "'איתנו',\n",
    "'איתכם',\n",
    "'איתכן',\n",
    "'יהיה',\n",
    "'תהיה',\n",
    "'היתי',\n",
    "'היתה',\n",
    "'היה',\n",
    "'להיות',\n",
    "'עצמי',\n",
    "'עצמו',\n",
    "'עצמה',\n",
    "'עצמם',\n",
    "'עצמן',\n",
    "'עצמנו',\n",
    "'עצמהם',\n",
    "'עצמהן',\n",
    "'מי',\n",
    "'מה',\n",
    "'איפה',\n",
    "'היכן',\n",
    "'במקום שבו',\n",
    "'אם',\n",
    "'לאן',\n",
    "'למקום שבו',\n",
    "'מקום בו',\n",
    "'איזה',\n",
    "'מהיכן',\n",
    "'איך',\n",
    "'כיצד',\n",
    "'באיזו מידה',\n",
    "'מתי',\n",
    "'בשעה ש',\n",
    "'כאשר',\n",
    "'כש',\n",
    "'למרות',\n",
    "'לפני',\n",
    "'אחרי',\n",
    "'מאיזו סיבה',\n",
    "'הסיבה שבגללה',\n",
    "'למה',\n",
    "'מדוע',\n",
    "'לאיזו תכלית',\n",
    "'כי',\n",
    "'יש',\n",
    "'אין',\n",
    "'אך',\n",
    "'מנין',\n",
    "'מאין',\n",
    "'מאיפה',\n",
    "'יכל',\n",
    "'יכלה',\n",
    "'יכלו',\n",
    "'יכול',\n",
    "'יכולה',\n",
    "'יכולים',\n",
    "'יכולות',\n",
    "'יוכלו',\n",
    "'יוכל',\n",
    "'מסוגל',\n",
    "'לא',\n",
    "'רק',\n",
    "'אולי',\n",
    "'אין',\n",
    "'לאו',\n",
    "'אי',\n",
    "'כלל',\n",
    "'נגד',\n",
    "'אם',\n",
    "'עם',\n",
    "'אל',\n",
    "'אלה',\n",
    "'אלו',\n",
    "'אף',\n",
    "'על',\n",
    "'מעל',\n",
    "'מתחת',\n",
    "'מצד',\n",
    "'בשביל',\n",
    "'לבין',\n",
    "'באמצע',\n",
    "'בתוך',\n",
    "'דרך',\n",
    "'מבעד',\n",
    "'באמצעות',\n",
    "'למעלה',\n",
    "'למטה',\n",
    "'מחוץ',\n",
    "'מן',\n",
    "'לעבר',\n",
    "'מכאן',\n",
    "'כאן',\n",
    "'הנה',\n",
    "'הרי',\n",
    "'פה',\n",
    "'שם',\n",
    "'אך',\n",
    "'ברם',\n",
    "'שוב',\n",
    "'אבל',\n",
    "'מבלי',\n",
    "'בלי',\n",
    "'מלבד',\n",
    "'רק',\n",
    "'בגלל',\n",
    "'מכיוון',\n",
    "'עד',\n",
    "'אשר',\n",
    "'ואילו',\n",
    "'למרות',\n",
    "'אס',\n",
    "'כמו',\n",
    "'כפי',\n",
    "'אז',\n",
    "'אחרי',\n",
    "'כן',\n",
    "'לכן',\n",
    "'לפיכך',\n",
    "'מאד',\n",
    "'ל',\n",
    "'עז',\n",
    "'מעט',\n",
    "'מעטים',\n",
    "'במידה',\n",
    "'שוב',\n",
    "'יותר',\n",
    "'מדי',\n",
    "'גם',\n",
    "'כן',\n",
    "'נו',\n",
    "'אחר',\n",
    "'אחרת',\n",
    "'אחרים',\n",
    "'אחרות',\n",
    "'אשר',\n",
    "'או']\n",
    "\n",
    "hebrew_filtered_text=\"\"\n",
    "filtered_final_tokens=[]\n",
    "final_tokens=[]\n",
    "for story in df_train['story']:\n",
    "    tokens = ht.tokenize(story)  \n",
    "    for grp, token, token_num, (start_index, end_index) in tokens:\n",
    "        if grp =='HEBREW':\n",
    "            final_tokens.append(token)\n",
    "            if token not in StopWords:\n",
    "                hebrew_filtered_text = ' '.join(filtered_final_tokens)\n",
    "                filtered_final_tokens.append(token)\n",
    "    \n",
    "    \n",
    "\n",
    "#df_train['story'] = filtered_stories\n",
    "\n",
    "\n",
    "\n",
    "# from nltk.probability import FreqDist \n",
    "fdist = FreqDist(final_tokens)\n",
    "print(fdist)\n",
    "fdist.most_common(2)\n",
    "fdist.plot(30,cumulative=False)\n",
    "plt.show()\n",
    "\n",
    "\n",
    "# hebrew_filtered_text=\"\"\n",
    "# #df_train['story'] = filtered_stories\n",
    "# filtered_final_tokens=[]\n",
    "# for story in df_train['story']:\n",
    "#     tokens = ht.tokenize(story)  \n",
    "#     for grp, token, token_num, (start_index, end_index) in tokens:\n",
    "#         if grp =='HEBREW':\n",
    "#             if token not in StopWords:\n",
    "#                 hebrew_filtered_text = ' '.join(filtered_final_tokens)\n",
    "#                 filtered_final_tokens.append(token)\n",
    "               \n",
    "    \n",
    "\n",
    "fdist2 = FreqDist(filtered_final_tokens)\n",
    "print(fdist2)\n",
    "fdist2.most_common(2)\n",
    "fdist2.plot(30,cumulative=False)\n",
    "plt.show()\n",
    "\n",
    "# print(hebrew_tokens)\n",
    "# print(filtered_stories)\n"
   ]
  },
  {
   "cell_type": "code",
   "execution_count": null,
   "metadata": {},
   "outputs": [],
   "source": [
    "# המרת המשתנה הקטגוריאלי ה\"תלוש\" לערכים בינאריים\n",
    "df_train['gender'] = df_train['gender'].map({'m': 1, 'f': 0})\n",
    "\n",
    "# חלוקת הנתונים למשתנה התלוש ולתווית\n",
    "x_train = df_train['story']\n",
    "y_train = df_train['gender']"
   ]
  },
  {
   "cell_type": "code",
   "execution_count": null,
   "metadata": {},
   "outputs": [],
   "source": [
    "# יצירת מודל הטיפוסים והמחלק\n",
    "tfidf_vec = TfidfVectorizer()\n",
    "# Term frequency = (Number of Occurrences of a word)/(Total words in the document)\n",
    "# IDF(word) = Log((Total number of documents)/(Number of documents containing the word))\n",
    "classifier = SGDClassifier(max_iter=1000, random_state=42)\n",
    "pipe = Pipeline([('tfidf', tfidf_vec), ('clf', classifier)])"
   ]
  },
  {
   "cell_type": "code",
   "execution_count": null,
   "metadata": {},
   "outputs": [],
   "source": [
    "# הגדרת הפרמטרים לחיפוש המודל הטוב ביותר\n",
    "params = {\n",
    "    'tfidf__max_df': [0.5, 0.7, 0.9],\n",
    "    'tfidf__max_features': [150, 200, 250, 300, 350, 1000],\n",
    "    'clf__loss': ['hinge', 'log', 'modified_huber', 'squared_hinge', 'perceptron'],\n",
    "    'clf__penalty': ['l2', 'l1', 'elasticnet'],\n",
    "    'clf__alpha': [0.0001, 0.092, 0.001]\n",
    "}"
   ]
  },
  {
   "cell_type": "code",
   "execution_count": null,
   "metadata": {},
   "outputs": [],
   "source": [
    "# הגדרת החיפוש המצוין\n",
    "grid_search = GridSearchCV(pipe, cv=10, param_grid=params, scoring='f1_macro')\n",
    "best_clf = grid_search.fit(x_train, y_train)\n",
    "# \n",
    "# הדפסת הפרמטרים הטובים ביותר והציון הטוב ביותר שנמצא\n",
    "print(\"Best parameters from gridsearch: {}\".format(best_clf.best_params_))\n",
    "print(\"CV score=%0.3f\" % best_clf.best_score_)"
   ]
  },
  {
   "cell_type": "code",
   "execution_count": null,
   "metadata": {},
   "outputs": [],
   "source": [
    "# שימוש במודל הטוב ביותר על מנת ללמוד מהנתונים האימון\n",
    "y_pred = best_clf.predict(x_train)\n",
    "print(\"Training score=%0.3f\" % f1_score(y_train, y_pred, average='macro'))"
   ]
  },
  {
   "cell_type": "code",
   "execution_count": null,
   "metadata": {},
   "outputs": [],
   "source": [
    "# הפקת DataFrame עם תוצאות האימון\n",
    "df_train_results = pd.DataFrame({'y_train': y_train, 'y_pred': y_pred})"
   ]
  },
  {
   "cell_type": "code",
   "execution_count": null,
   "metadata": {},
   "outputs": [],
   "source": [
    "# הדפסת חלק מתוצאות האימון\n",
    "print(df_train_results.head(10))\n",
    "print(df_train_results.tail(10))\n",
    "print(df_train_results.shape)"
   ]
  },
  {
   "cell_type": "code",
   "execution_count": null,
   "metadata": {},
   "outputs": [],
   "source": [
    "# הטיפול בטוקניזציה וסידור מחדש של הטקסט העברי מסיפורי הבדיקה\n",
    "test_stories = []\n",
    "seen_stories = set()  # רשימה של סיפורים שכבר נראו\n",
    "for story in df_train['story']:\n",
    "    hebrew_tokens = [token for grp, token, _, _ in ht.tokenize(story) if grp == 'HEBREW']\n",
    "    hebrew_text = ' '.join(hebrew_tokens)\n",
    "    if hebrew_text not in seen_stories:  # בדיקה אם הסיפור כבר נמצא ברשימה\n",
    "        test_stories.append(hebrew_text)\n",
    "        seen_stories.add(hebrew_text)  # הוספת הסיפור לרשימה של הסיפורים שכבר נראו\n",
    "\n",
    "# הדפסת מספר הסיפורים החדשים שנמצאו\n",
    "print(\"Number of unique test stories:\", len(test_stories))\n",
    "\n",
    "# ניתוח השורות ב-DataFrame עבור הטיפול בטקסט\n",
    "df_test['story'] = test_stories"
   ]
  },
  {
   "cell_type": "code",
   "execution_count": null,
   "metadata": {},
   "outputs": [],
   "source": [
    "# השימוש במודל הטוב ביותר על נתוני הבדיקה\n",
    "x_test = df_test['story']\n",
    "gender_clf = best_clf.best_estimator_\n",
    "y_predicted = gender_clf.predict(x_test)"
   ]
  },
  {
   "cell_type": "code",
   "execution_count": null,
   "metadata": {},
   "outputs": [],
   "source": [
    "# המרת התוצאות לתוויות קטגוריות\n",
    "y_predicted = np.where(y_predicted == 1, 'm', 'f')"
   ]
  },
  {
   "cell_type": "code",
   "execution_count": null,
   "metadata": {},
   "outputs": [],
   "source": [
    "# יצירת DataFrame עם התוצאות הסופיות\n",
    "df_predicted = pd.DataFrame({'test_example_id': df_test['test_example_id'], 'predicted_category': y_predicted})\n",
    "df_predicted"
   ]
  },
  {
   "cell_type": "code",
   "execution_count": null,
   "metadata": {},
   "outputs": [],
   "source": []
  },
  {
   "cell_type": "markdown",
   "metadata": {},
   "source": [
    "### Save output to csv (optional)\n",
    "After you're done save your output to the 'classification_results.csv' csv file.<br/>\n",
    "We assume that the dataframe with your results contain the following columns:\n",
    "* column 1 (left column): 'test_example_id'  - the same id associated to each of the test stories to be predicted.\n",
    "* column 2 (right column): 'predicted_category' - the predicted gender value for each of the associated story. \n",
    "\n",
    "Assuming your predicted values are in the `df_predicted` dataframe, you should save you're results as following:"
   ]
  },
  {
   "cell_type": "code",
   "execution_count": null,
   "metadata": {},
   "outputs": [],
   "source": [
    "df_predicted.to_csv('classification_results.csv',index=False)"
   ]
  },
  {
   "cell_type": "code",
   "execution_count": null,
   "metadata": {},
   "outputs": [],
   "source": []
  },
  {
   "cell_type": "code",
   "execution_count": null,
   "metadata": {},
   "outputs": [],
   "source": []
  }
 ],
 "metadata": {
  "celltoolbar": "Create Assignment",
  "kernelspec": {
   "display_name": "Python 3 (ipykernel)",
   "language": "python",
   "name": "python3"
  },
  "language_info": {
   "codemirror_mode": {
    "name": "ipython",
    "version": 3
   },
   "file_extension": ".py",
   "mimetype": "text/x-python",
   "name": "python",
   "nbconvert_exporter": "python",
   "pygments_lexer": "ipython3",
   "version": "3.9.13"
  },
  "toc-autonumbering": true,
  "toc-showcode": false,
  "toc-showmarkdowntxt": true
 },
 "nbformat": 4,
 "nbformat_minor": 4
}
